{
 "cells": [
  {
   "cell_type": "code",
   "execution_count": 77,
   "metadata": {},
   "outputs": [],
   "source": [
    "from openlogprobs import extract_logprobs, ToyModel\n",
    "toy_model = ToyModel(300, temperature = 0.1)\n"
   ]
  },
  {
   "cell_type": "code",
   "execution_count": 52,
   "metadata": {},
   "outputs": [
    {
     "name": "stderr",
     "output_type": "stream",
     "text": [
      "100%|██████████| 100/100 [00:00<00:00, 12792.58it/s]\n"
     ]
    },
    {
     "data": {
      "text/plain": [
       "(array([-9.23405918e+00, -5.32176796e+01, -3.00402049e+01, -1.85434524e+01,\n",
       "        -3.39846018e+01, -4.46377221e+01, -3.28596059e+01, -3.48483447e+01,\n",
       "        -2.76161674e+01, -3.82015232e+01, -2.18798581e+01, -3.25743500e+01,\n",
       "        -2.94440034e+01, -2.36591819e+01, -3.98279074e+01, -2.90348831e+01,\n",
       "        -4.19257346e+01, -3.62336043e+01, -3.60413972e+01, -3.78080252e+01,\n",
       "        -1.80638674e+01, -1.75926927e+01, -6.23405608e+00, -2.01317314e+01,\n",
       "        -2.84948412e+01, -3.76864854e+01, -3.17575756e+01, -3.26328519e+01,\n",
       "        -3.67231074e+01, -4.10542909e+01, -1.35536793e+01, -2.18973699e+01,\n",
       "        -3.91142550e+01, -4.02453426e+01, -3.40020600e+01, -3.56043938e+01,\n",
       "        -2.03020278e+01, -2.92005304e+01, -3.69258943e+01, -3.37363902e+01,\n",
       "        -3.44880107e+01, -2.41542760e+01, -3.02367094e+01, -3.31499580e+01,\n",
       "        -4.33648888e+01, -1.34458545e+01, -3.27176276e+01, -3.21814898e+01,\n",
       "        -2.68090013e+01, -4.00902036e+01, -2.37304274e+01, -2.70168427e+01,\n",
       "        -4.08413294e+01, -4.25518635e+01, -3.19896046e+01, -3.02890840e+01,\n",
       "        -5.35594645e+01, -3.07001832e+01, -1.87046173e+01, -1.21695224e+01,\n",
       "        -1.31420854e+01, -3.83857551e+01, -3.82051412e+01, -2.32828263e+01,\n",
       "        -2.16339234e+01, -2.38950911e+01, -3.24664238e+01, -3.83424703e+01,\n",
       "        -3.07457808e+01, -2.93843749e+01, -2.88434091e+01, -3.72346822e+01,\n",
       "        -3.54506973e+01, -2.94561628e+01, -3.05917684e+01, -2.46609214e+01,\n",
       "        -2.07158750e-03, -5.10872546e+01, -2.70445171e+01, -2.05134991e+01,\n",
       "        -3.65795377e+01, -2.35783282e+01, -2.39426020e+01, -3.64785496e+01,\n",
       "        -3.72683886e+01, -2.28883687e+01, -2.65178803e+01, -3.10644332e+01,\n",
       "        -3.36616639e+01, -4.88727752e+01, -4.33830741e+01, -4.61750809e+01,\n",
       "        -2.08447400e+01, -2.27414254e+01, -2.43347171e+01, -3.25253967e+01,\n",
       "        -3.66570595e+01, -1.48603800e+01, -2.04092983e+01, -4.08734265e+01]),\n",
       " 12380)"
      ]
     },
     "execution_count": 52,
     "metadata": {},
     "output_type": "execute_result"
    }
   ],
   "source": [
    "extracted_logprobs = extract_logprobs(toy_model, \"i like pie\", method=\"bisection\",bias=100, eps = 1e-5)\n",
    "\n",
    "extracted_logprobs"
   ]
  },
  {
   "cell_type": "code",
   "execution_count": 53,
   "metadata": {},
   "outputs": [
    {
     "name": "stdout",
     "output_type": "stream",
     "text": [
      "1.3923371227164694e-06\n"
     ]
    }
   ],
   "source": [
    "import numpy as np\n",
    "\n",
    "diff = toy_model.logits - extracted_logprobs[0]\n",
    "diff -= diff[0]\n",
    "print (sum(np.abs(diff))/len(diff))"
   ]
  },
  {
   "cell_type": "code",
   "execution_count": 85,
   "metadata": {},
   "outputs": [],
   "source": [
    "import numpy as np\n",
    "\n",
    "\n",
    "def much_faster_exact_logprobs(\n",
    "    model,\n",
    "    prefix: str,\n",
    "    eps: float = 1e-8,\n",
    "    bias: float = 40.0,\n",
    "    use_transitivity: bool = False,\n",
    "    alpha:float = None,\n",
    "):\n",
    "    vocab_size = model.vocab_size\n",
    "\n",
    "    if alpha is None:\n",
    "        alpha = 1.5/vocab_size\n",
    "    \n",
    "    A= np.ones((vocab_size,vocab_size))*bias\n",
    "    np.fill_diagonal(A, 0)\n",
    "\n",
    "    step = 0 \n",
    "\n",
    "    pivot = 0\n",
    "    largest = 0\n",
    "    while np.any(np.abs(A+ A.T) > eps):\n",
    "        \n",
    "        \n",
    "        # print (\"t:\", step)\n",
    "        # print (A)\n",
    "        L = - A[pivot, :].squeeze()\n",
    "        # print (\"L\", L)\n",
    "        U = A[:, pivot].squeeze()\n",
    "        M = alpha*U + (1-alpha)* L\n",
    "        # print (\"M\", M)\n",
    "        logit_bias = {i: val for i, val in enumerate(M)}\n",
    "        # print (\"logit bias:\", logit_bias)\n",
    "        sampled = model.argmax(prefix, logit_bias)\n",
    "        # print (\"sampled:\", sampled)\n",
    "        if step == 0:\n",
    "            largest = sampled\n",
    "\n",
    "        A[sampled] = logit_bias[sampled] - M\n",
    "        \n",
    "        if use_transitivity:\n",
    "            A = transitive(A,sampled)\n",
    "\n",
    "        # if sampled != largest and np.abs(A[sampled] < \n",
    "        pivot = sampled\n",
    "        \n",
    "        # if step >= 1000:\n",
    "        #     break\n",
    "\n",
    "        step += 1\n",
    "        \n",
    "    return A[largest], step\n",
    "\n",
    "def transitive(A, sampled, eps = 1e-10):\n",
    "    A=A.copy()\n",
    "    vocab_size = A.shape[0]\n",
    "    queue = [(sampled, i) for i in range(vocab_size)] # updated pairs\n",
    "    while queue:\n",
    "        # print (queue)\n",
    "        u,v = queue.pop(0)\n",
    "        for w in range(vocab_size):\n",
    "            if A[w,u]+ A[u,v] < A[w,v] - eps:  # if w+Awu >= u, u+Auv >= v, then w+Awu+Auv >= v and w+Awv >= v\n",
    "                queue.append((w,v))\n",
    "                A[w,v] = A[w,u] + A[u,v]\n",
    "    return A"
   ]
  },
  {
   "cell_type": "code",
   "execution_count": 84,
   "metadata": {},
   "outputs": [
    {
     "name": "stdout",
     "output_type": "stream",
     "text": [
      "(array([  0.        ,  14.21235455,  14.11789647,  21.21195584,\n",
      "        17.6592015 ,  -8.04776482,  14.38040166,   6.37945744,\n",
      "        26.18420964,  11.1466754 , -11.07514998,  19.6152479 ,\n",
      "         5.45964417,   9.45129818,   9.07388934,  17.5740089 ,\n",
      "        24.5189179 ,  25.0290923 ,  12.31695952,   5.74785449,\n",
      "        10.40125629,  21.23637098,  20.16969217,  24.06020675,\n",
      "        14.45950833,   5.23269334,  13.9124567 ,  11.741489  ,\n",
      "        -4.63197528,  20.37258693,  15.76936562,  15.62014544,\n",
      "        35.48963617,  17.80791735,  10.1836834 ,  22.77172284,\n",
      "        22.95124671,  15.93203257,   2.39592703,  24.37113081,\n",
      "        20.33242521,  20.89949817,  23.94160922,  10.50965579,\n",
      "        16.80836015,   5.03827036,  25.26534754,  24.64198741,\n",
      "        38.96736392,  10.88542631,  28.20597114,  11.84615297,\n",
      "        18.53158314,  21.18203135,  21.00455992,   7.78498325,\n",
      "        16.72930807,  22.75879165,  21.29732514,   4.03277179,\n",
      "        25.37476048,  20.31925439,  28.8862936 ,  15.84682282,\n",
      "        18.55560889,  19.58809999,  30.93574299,  14.76830446,\n",
      "        21.56231065,  12.63776748,  11.94521286,   1.44970565,\n",
      "        21.65242317,   4.07069063,  10.80136681,  21.08497936,\n",
      "        24.97425676,  11.66224709, -10.80375885,   0.59349899,\n",
      "        -0.44143006,   8.36714493,  29.45795175,  35.18457921,\n",
      "        21.19601552,  19.35826281,  26.4647801 ,   8.06894049,\n",
      "        13.43593881,  12.42724981,   7.68407378,  15.11598848,\n",
      "        19.89061113, -13.60298236,   7.77060534,   8.14545485,\n",
      "        15.40309818,   5.80304944,   4.41748495,  12.71156488,\n",
      "        20.24801689,   6.67972734,   6.91710049,  22.44430569,\n",
      "        12.29840422,  12.67382332,  22.26212465,  17.90482933,\n",
      "        11.17495048,  30.97087725,  16.5170721 ,  21.54749008,\n",
      "         1.65829725,   7.45615183,   3.60331656,  12.00465728,\n",
      "        19.19287157,  -0.84215145,  34.80203249,   5.79059054,\n",
      "        -0.95384445,  20.59412679,  12.69782351,  19.01776703,\n",
      "         3.77304107,  10.15173883,  18.55711993,  14.48724065,\n",
      "         1.2883631 ,  19.02440937,  -0.17890247,   1.36831706,\n",
      "        27.6432523 ,  16.35598728,  17.10380948,   1.26221915,\n",
      "         7.91948746,   8.67785447,  15.19584388,  17.1223201 ,\n",
      "        10.85809316,  15.17084499,  13.90018474,  20.31429828,\n",
      "         6.99920294,  28.6930121 ,  11.6189784 ,  23.33393122,\n",
      "        13.46887109,   7.21657619,  20.78798651,  20.04596306,\n",
      "        -1.63581867,  13.8904133 ,  15.16755683,   2.66193551,\n",
      "         3.4970264 ,  13.30627692,  24.58243709,  12.62531238,\n",
      "        18.16023877,  22.82960186,   1.36202938,  26.08134768,\n",
      "        29.03328601,  17.42479536,  14.35789873,  22.81943751,\n",
      "        -7.89051573,  23.48526176,  26.13027466,   3.89053385,\n",
      "         2.12165447,  15.37973758,   8.0930741 ,  16.11537227,\n",
      "         1.1595771 ,   7.01417218,  23.81819881,  -4.25046062,\n",
      "         4.72265777,  25.55656163,  12.42387287,  25.95015497,\n",
      "         6.8089492 ,  22.95339117,  23.31198503,  22.97599544,\n",
      "        25.50124946,  18.42950689,  33.92367555,  41.25920605,\n",
      "        -3.4165811 ,  24.14155978, -12.76193376,  22.71755558,\n",
      "        23.75936096,  27.20235346,   7.7029714 ,  27.56658494,\n",
      "        27.88387527,  15.02646673,  10.50672116,   4.97842578,\n",
      "        -5.52645512,  24.02931724,  25.8144379 ,  14.10352584,\n",
      "        11.03131382,  10.06370384,  11.44117186,   7.88098301,\n",
      "        24.24514492,   4.4957503 ,   2.65562305,   8.86484986,\n",
      "         8.08362144,   8.57917417,  18.64986499,   1.99805505,\n",
      "        11.63138696,  20.93570436,  20.47940077,  13.67628759,\n",
      "        -7.61557568,  -6.04860132,   5.42776069,  28.87785097,\n",
      "        17.63773283,  12.18247646,  16.59818279,  25.95277218,\n",
      "        15.52120159,  -4.7323899 ,  14.8063931 ,  12.73940023,\n",
      "        18.56960994,  11.35847147,  21.02370466,  15.9310144 ,\n",
      "        24.02266581,  15.79784825,  14.41259185,  12.2017094 ,\n",
      "        30.23365136,  12.63899677,   1.18643937,  -2.14981458,\n",
      "         5.84687801,  14.59654076,  -2.54735525,   9.09350295,\n",
      "        12.05850065,   2.18233166,  11.99987884,  -1.24259505,\n",
      "         3.41051973,   7.09416794,  -4.5440392 ,  21.36352624,\n",
      "        29.91864106,   6.19881709,  25.44186046,  22.43883613,\n",
      "        17.85933534,   1.86451223,  -2.33100759,  15.84393988,\n",
      "         4.45642681,  13.00958548,  24.25971299,   7.79848581,\n",
      "        15.21031681,  12.58875436,  20.10927147,  17.77373109,\n",
      "         6.27095786,  18.83563085,  13.72220626,  17.69729887,\n",
      "        23.12349444,  17.01581163,  16.21582718,  16.92899522,\n",
      "        25.0529611 ,   6.97913553,   7.30916103,  10.71208371,\n",
      "        12.75132301,  13.60098534,  24.59546126,  12.51921591,\n",
      "        16.08060855,  21.4535966 ,  13.03820198,   4.2007445 ,\n",
      "        37.36395412, -13.72896305,  11.24998958,   9.54782506]), 4863)\n",
      "1.3161878805452905e-06\n"
     ]
    }
   ],
   "source": [
    "faster_logprobs = much_faster_exact_logprobs(toy_model, \"\", alpha = 0.005,bias=100, eps = 1e-5, use_transitivity=False)\n",
    "print (faster_logprobs)\n",
    "diff = toy_model.logits - faster_logprobs[0]\n",
    "diff -= diff[0]\n",
    "print (sum(np.abs(diff))/len(diff))"
   ]
  },
  {
   "cell_type": "code",
   "execution_count": 28,
   "metadata": {},
   "outputs": [
    {
     "data": {
      "image/png": "[encoded data removed]",
      "text/plain": [
       "<Figure size 640x480 with 1 Axes>"
      ]
     },
     "metadata": {},
     "output_type": "display_data"
    }
   ],
   "source": [
    "from matplotlib import pyplot as plt\n",
    "\n",
    "\n",
    "plt.hist(diff, bins=30, alpha=0.5, color='blue', edgecolor='black')\n",
    "\n",
    "# Adding titles and labels\n",
    "plt.title('Histogram Example')\n",
    "plt.xlabel('Value')\n",
    "plt.ylabel('Frequency')\n",
    "\n",
    "# Showing the plot\n",
    "plt.show()"
   ]
  },
  {
   "cell_type": "code",
   "execution_count": null,
   "metadata": {},
   "outputs": [],
   "source": []
  }
 ],
 "metadata": {
  "kernelspec": {
   "display_name": "myenv",
   "language": "python",
   "name": "python3"
  },
  "language_info": {
   "codemirror_mode": {
    "name": "ipython",
    "version": 3
   },
   "file_extension": ".py",
   "mimetype": "text/x-python",
   "name": "python",
   "nbconvert_exporter": "python",
   "pygments_lexer": "ipython3",
   "version": "3.12.0"
  }
 },
 "nbformat": 4,
 "nbformat_minor": 2
}
